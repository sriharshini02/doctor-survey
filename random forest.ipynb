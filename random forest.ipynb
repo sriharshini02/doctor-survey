{
 "cells": [
  {
   "cell_type": "code",
   "execution_count": 1,
   "id": "e25a523c-04a7-44ff-8da7-d9fd48821450",
   "metadata": {},
   "outputs": [],
   "source": [
    "import pandas as pd\n",
    "import joblib\n",
    "from sklearn.ensemble import RandomForestClassifier\n",
    "from sklearn.model_selection import train_test_split\n",
    "from sklearn.preprocessing import LabelEncoder\n"
   ]
  },
  {
   "cell_type": "code",
   "execution_count": 2,
   "id": "db013a27-c870-46a9-ae8b-37e5050f24d6",
   "metadata": {},
   "outputs": [],
   "source": [
    "# Load dataset\n",
    "file_path = \"dummy_npi_data.xlsx\"\n",
    "xls = pd.ExcelFile(file_path)\n",
    "df = pd.read_excel(xls, sheet_name=\"Dataset\")"
   ]
  },
  {
   "cell_type": "code",
   "execution_count": null,
   "id": "deb70c80-1f4b-4a42-8df4-5947fda6629c",
   "metadata": {},
   "outputs": [],
   "source": [
    "# Extract hour from Login Time\n",
    "df[\"Login Hour\"] = df[\"Login Time\"].dt.hour\n"
   ]
  },
  {
   "cell_type": "code",
   "execution_count": null,
   "id": "b44fc3b7-fb49-42c3-8ce8-00b638d266d7",
   "metadata": {},
   "outputs": [],
   "source": [
    "# Encode categorical variables\n",
    "label_encoders = {}\n",
    "for col in [\"State\", \"Region\", \"Speciality\"]:\n",
    "    le = LabelEncoder()\n",
    "    df[col] = le.fit_transform(df[col])\n",
    "    label_encoders[col] = le\n"
   ]
  },
  {
   "cell_type": "code",
   "execution_count": null,
   "id": "50f49df8-a4a4-4254-81da-cb9c02bd87bd",
   "metadata": {},
   "outputs": [],
   "source": [
    "# Drop unnecessary columns\n",
    "df = df.drop(columns=[\"Login Time\", \"Logout Time\"])"
   ]
  },
  {
   "cell_type": "code",
   "execution_count": null,
   "id": "48701283-dd07-4ac5-9ef0-7a4f78f30a4d",
   "metadata": {},
   "outputs": [],
   "source": [
    "\n",
    "# Define features and target variable\n",
    "X = df.drop(columns=[\"NPI\", \"Count of Survey Attempts\"])\n",
    "y = (df[\"Count of Survey Attempts\"] > 0).astype(int)\n",
    "\n",
    "# Split data into train and test sets\n",
    "X_train, X_test, y_train, y_test = train_test_split(X, y, test_size=0.2, random_state=42)\n",
    "\n",
    "# Train model\n",
    "model = RandomForestClassifier(n_estimators=100, random_state=42)\n",
    "model.fit(X_train, y_train)\n",
    "\n",
    "# Save model and data\n",
    "joblib.dump(model, \"npi_rf_model.pkl\")\n",
    "df.to_csv(\"processed_npi_data.csv\", index=False)\n",
    "\n",
    "print(\"Model and processed data saved successfully!\")\n"
   ]
  }
 ],
 "metadata": {
  "kernelspec": {
   "display_name": "Python 3 (ipykernel)",
   "language": "python",
   "name": "python3"
  },
  "language_info": {
   "codemirror_mode": {
    "name": "ipython",
    "version": 3
   },
   "file_extension": ".py",
   "mimetype": "text/x-python",
   "name": "python",
   "nbconvert_exporter": "python",
   "pygments_lexer": "ipython3",
   "version": "3.10.11"
  }
 },
 "nbformat": 4,
 "nbformat_minor": 5
}
