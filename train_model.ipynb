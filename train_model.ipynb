{
 "cells": [
  {
   "cell_type": "code",
   "execution_count": 2,
   "metadata": {},
   "outputs": [],
   "source": [
    "import pandas as pd\n",
    "import joblib\n",
    "from sklearn.preprocessing import LabelEncoder\n",
    "\n",
    "# Load data\n",
    "data = pd.read_csv(\"processed_npi_data.csv\")\n",
    "\n",
    "# Columns that need encoding\n",
    "categorical_columns = [\"State\", \"Region\", \"Speciality\"]\n",
    "\n",
    "# Dictionary to store label encoders\n",
    "label_encoders = {}\n",
    "\n",
    "for col in categorical_columns:\n",
    "    le = LabelEncoder()\n",
    "    data[col] = le.fit_transform(data[col])\n",
    "    label_encoders[col] = dict(zip(le.classes_, le.transform(le.classes_)))\n",
    "\n",
    "# Save label encoders\n",
    "joblib.dump(label_encoders, \"label_encoders.pkl\")\n",
    "\n",
    "# Save processed data\n",
    "data.to_csv(\"processed_npi_data_encoded.csv\", index=False)\n"
   ]
  },
  {
   "cell_type": "code",
   "execution_count": 5,
   "metadata": {},
   "outputs": [
    {
     "data": {
      "text/plain": [
       "{'State': {'CA': 0,\n",
       "  'FL': 1,\n",
       "  'GA': 2,\n",
       "  'IL': 3,\n",
       "  'MI': 4,\n",
       "  'NC': 5,\n",
       "  'NY': 6,\n",
       "  'OH': 7,\n",
       "  'PA': 8,\n",
       "  'TX': 9},\n",
       " 'Region': {'Midwest': 0, 'Northeast': 1, 'South': 2, 'West': 3},\n",
       " 'Speciality': {'Cardiology': 0,\n",
       "  'General Practice': 1,\n",
       "  'Neurology': 2,\n",
       "  'Oncology': 3,\n",
       "  'Orthopedics': 4,\n",
       "  'Pediatrics': 5,\n",
       "  'Radiology': 6}}"
      ]
     },
     "execution_count": 5,
     "metadata": {},
     "output_type": "execute_result"
    }
   ],
   "source": [
    "label_encoders"
   ]
  },
  {
   "cell_type": "code",
   "execution_count": 4,
   "metadata": {},
   "outputs": [
    {
     "name": "stdout",
     "output_type": "stream",
     "text": [
      "Label encoders saved successfully!\n"
     ]
    }
   ],
   "source": [
    "import pandas as pd\n",
    "import joblib\n",
    "from sklearn.preprocessing import LabelEncoder\n",
    "\n",
    "# Load original data (before encoding)\n",
    "original_data = pd.read_excel(\"dummy_npi_data.xlsx\")  # Ensure this file is accessible\n",
    "\n",
    "# Load already processed data\n",
    "processed_data = pd.read_csv(\"processed_npi_data.csv\")\n",
    "\n",
    "# Columns that need encoding\n",
    "categorical_columns = [\"State\", \"Region\", \"Speciality\"]\n",
    "\n",
    "# Dictionary to store label encoders\n",
    "label_encoders = {}\n",
    "\n",
    "# Encode categorical columns & save mappings\n",
    "for col in categorical_columns:\n",
    "    le = LabelEncoder()\n",
    "    original_data[col] = le.fit_transform(original_data[col])  # Encode using original data\n",
    "    label_encoders[col] = dict(zip(le.classes_, le.transform(le.classes_)))  # Save mapping\n",
    "\n",
    "# Save label encoders\n",
    "joblib.dump(label_encoders, \"label_encoders.pkl\")\n",
    "\n",
    "print(\"Label encoders saved successfully!\")\n"
   ]
  },
  {
   "cell_type": "code",
   "execution_count": null,
   "metadata": {},
   "outputs": [],
   "source": []
  }
 ],
 "metadata": {
  "kernelspec": {
   "display_name": "Python 3",
   "language": "python",
   "name": "python3"
  },
  "language_info": {
   "codemirror_mode": {
    "name": "ipython",
    "version": 3
   },
   "file_extension": ".py",
   "mimetype": "text/x-python",
   "name": "python",
   "nbconvert_exporter": "python",
   "pygments_lexer": "ipython3",
   "version": "3.10.11"
  }
 },
 "nbformat": 4,
 "nbformat_minor": 2
}
